{
 "cells": [
  {
   "cell_type": "markdown",
   "metadata": {},
   "source": [
    "# Pyomo import"
   ]
  },
  {
   "cell_type": "code",
   "execution_count": 1,
   "metadata": {},
   "outputs": [],
   "source": [
    "from pyomo.environ import *"
   ]
  },
  {
   "cell_type": "code",
   "execution_count": 2,
   "metadata": {},
   "outputs": [],
   "source": [
    "import random"
   ]
  },
  {
   "cell_type": "markdown",
   "metadata": {},
   "source": [
    "# Knapsack Problem"
   ]
  },
  {
   "cell_type": "markdown",
   "metadata": {},
   "source": [
    "## Formulação matemática\n",
    "\n",
    "$$ maximizar \\sum_{i \\in I}{x_i . v_i} $$\n",
    "\n",
    "$$ \\sum_{i \\in I}{x_i . c_i} \\leq C $$\n"
   ]
  },
  {
   "cell_type": "code",
   "execution_count": 3,
   "metadata": {},
   "outputs": [],
   "source": [
    "knapsack = ConcreteModel()"
   ]
  },
  {
   "cell_type": "code",
   "execution_count": 4,
   "metadata": {},
   "outputs": [],
   "source": [
    "knapsack.Items = Set(initialize=[i for i in range(10)], doc='itens disponíveis')"
   ]
  },
  {
   "cell_type": "code",
   "execution_count": 5,
   "metadata": {},
   "outputs": [],
   "source": [
    "def RandomRule(model, i):\n",
    "    return random.random()\n",
    "\n",
    "knapsack.Valores = Param(knapsack.Items, initialize=RandomRule, within=PositiveReals, mutable=False, doc='Valores dos itens')\n",
    "knapsack.Custos = Param(knapsack.Items, initialize=RandomRule, within=PositiveReals, mutable=False, doc='Custo dos itens')\n",
    "knapsack.Capacidade = Param(initialize=-1, mutable=True, doc='Capacidade total')"
   ]
  },
  {
   "cell_type": "code",
   "execution_count": 6,
   "metadata": {},
   "outputs": [
    {
     "name": "stdout",
     "output_type": "stream",
     "text": [
      "Valores : Valores dos itens\n",
      "    Size=10, Index=Items, Domain=PositiveReals, Default=None, Mutable=False\n",
      "    Key : Value\n",
      "      0 :   0.9915927988433182\n",
      "      1 :   0.8706401512232174\n",
      "      2 :  0.06731238402405126\n",
      "      3 :   0.6506889484063654\n",
      "      4 :  0.05507460443823664\n",
      "      5 :   0.7605023641766407\n",
      "      6 :   0.9281082602628737\n",
      "      7 :  0.39038163722887376\n",
      "      8 :  0.36107620802967355\n",
      "      9 : 0.017989029699538528\n"
     ]
    }
   ],
   "source": [
    "knapsack.Valores.display()"
   ]
  },
  {
   "cell_type": "code",
   "execution_count": 7,
   "metadata": {},
   "outputs": [],
   "source": [
    "knapsack.x = Var(knapsack.Items, within=Binary, doc='variável de decisão binária indicando a escolha ou não de cada item')"
   ]
  },
  {
   "cell_type": "code",
   "execution_count": 8,
   "metadata": {},
   "outputs": [],
   "source": [
    "def ObjRule(model):\n",
    "    return sum([model.x[i]*model.Valores[i] for i in model.Items])\n",
    "\n",
    "knapsack.objetivo = Objective(rule=ObjRule, sense=maximize, doc='função objetivo: maximizar o valor dos itens selecionados')"
   ]
  },
  {
   "cell_type": "code",
   "execution_count": 9,
   "metadata": {},
   "outputs": [],
   "source": [
    "def RestCap(model):\n",
    "    return sum([model.x[i]*model.Custos[i] for i in model.Items]) <= model.Capacidade\n",
    "\n",
    "knapsack.total_cap = Constraint(rule=RestCap, doc='restrição para capacidade total')"
   ]
  },
  {
   "cell_type": "code",
   "execution_count": 10,
   "metadata": {},
   "outputs": [],
   "source": [
    "def solve_model(modelo, capacidade):\n",
    "    modelo.Capacidade.set_value(capacidade)\n",
    "    \n",
    "    opt = SolverFactory('glpk')\n",
    "    \n",
    "    results = opt.solve(modelo)\n",
    "    \n",
    "    results.write()\n",
    "    modelo.x.display()\n",
    "    \n",
    "    return modelo"
   ]
  },
  {
   "cell_type": "code",
   "execution_count": 11,
   "metadata": {},
   "outputs": [
    {
     "name": "stdout",
     "output_type": "stream",
     "text": [
      "# ==========================================================\n",
      "# = Solver Results                                         =\n",
      "# ==========================================================\n",
      "# ----------------------------------------------------------\n",
      "#   Problem Information\n",
      "# ----------------------------------------------------------\n",
      "Problem: \n",
      "- Name: unknown\n",
      "  Lower bound: 3.84940082566419\n",
      "  Upper bound: 3.84940082566419\n",
      "  Number of objectives: 1\n",
      "  Number of constraints: 2\n",
      "  Number of variables: 11\n",
      "  Number of nonzeros: 11\n",
      "  Sense: maximize\n",
      "# ----------------------------------------------------------\n",
      "#   Solver Information\n",
      "# ----------------------------------------------------------\n",
      "Solver: \n",
      "- Status: ok\n",
      "  Termination condition: optimal\n",
      "  Statistics: \n",
      "    Branch and bound: \n",
      "      Number of bounded subproblems: 3\n",
      "      Number of created subproblems: 3\n",
      "  Error rc: 0\n",
      "  Time: 0.023633480072021484\n",
      "# ----------------------------------------------------------\n",
      "#   Solution Information\n",
      "# ----------------------------------------------------------\n",
      "Solution: \n",
      "- number of solutions: 0\n",
      "  number of solutions displayed: 0\n",
      "x : variável de decisão binária indicando a escolha ou não de cada item\n",
      "    Size=10, Index=Items\n",
      "    Key : Lower : Value : Upper : Fixed : Stale : Domain\n",
      "      0 :     0 :   1.0 :     1 : False : False : Binary\n",
      "      1 :     0 :   1.0 :     1 : False : False : Binary\n",
      "      2 :     0 :   0.0 :     1 : False : False : Binary\n",
      "      3 :     0 :   1.0 :     1 : False : False : Binary\n",
      "      4 :     0 :   0.0 :     1 : False : False : Binary\n",
      "      5 :     0 :   0.0 :     1 : False : False : Binary\n",
      "      6 :     0 :   1.0 :     1 : False : False : Binary\n",
      "      7 :     0 :   1.0 :     1 : False : False : Binary\n",
      "      8 :     0 :   0.0 :     1 : False : False : Binary\n",
      "      9 :     0 :   1.0 :     1 : False : False : Binary\n"
     ]
    },
    {
     "data": {
      "text/plain": [
       "<pyomo.core.base.PyomoModel.ConcreteModel at 0x7f0ed41c1c80>"
      ]
     },
     "execution_count": 11,
     "metadata": {},
     "output_type": "execute_result"
    }
   ],
   "source": [
    "solve_model(knapsack, 2)"
   ]
  },
  {
   "cell_type": "code",
   "execution_count": null,
   "metadata": {},
   "outputs": [],
   "source": []
  }
 ],
 "metadata": {
  "kernelspec": {
   "display_name": "Python 3",
   "language": "python",
   "name": "python3"
  },
  "language_info": {
   "codemirror_mode": {
    "name": "ipython",
    "version": 3
   },
   "file_extension": ".py",
   "mimetype": "text/x-python",
   "name": "python",
   "nbconvert_exporter": "python",
   "pygments_lexer": "ipython3",
   "version": "3.8.3"
  }
 },
 "nbformat": 4,
 "nbformat_minor": 4
}
