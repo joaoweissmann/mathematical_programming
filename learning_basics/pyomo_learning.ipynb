{
 "cells": [
  {
   "cell_type": "markdown",
   "metadata": {},
   "source": [
    "# Installing"
   ]
  },
  {
   "cell_type": "code",
   "execution_count": null,
   "metadata": {},
   "outputs": [],
   "source": [
    "!pip install pyomo"
   ]
  },
  {
   "cell_type": "code",
   "execution_count": null,
   "metadata": {},
   "outputs": [],
   "source": [
    "!pip install glpk"
   ]
  },
  {
   "cell_type": "markdown",
   "metadata": {},
   "source": [
    "# Pyomo import"
   ]
  },
  {
   "cell_type": "code",
   "execution_count": null,
   "metadata": {},
   "outputs": [],
   "source": [
    "from pyomo.environ import *"
   ]
  },
  {
   "cell_type": "code",
   "execution_count": null,
   "metadata": {},
   "outputs": [],
   "source": [
    "import random"
   ]
  },
  {
   "cell_type": "markdown",
   "metadata": {},
   "source": [
    "# Pyomo tutorial from documentation"
   ]
  },
  {
   "cell_type": "markdown",
   "metadata": {},
   "source": [
    "# Models"
   ]
  },
  {
   "cell_type": "code",
   "execution_count": null,
   "metadata": {},
   "outputs": [],
   "source": [
    "model = ConcreteModel()"
   ]
  },
  {
   "cell_type": "code",
   "execution_count": null,
   "metadata": {},
   "outputs": [],
   "source": [
    "model = AbstractModel()"
   ]
  },
  {
   "cell_type": "markdown",
   "metadata": {},
   "source": [
    "# Sets"
   ]
  },
  {
   "cell_type": "code",
   "execution_count": null,
   "metadata": {},
   "outputs": [],
   "source": [
    "model.A = Set(initialize=['red', 'green', 'blue'])"
   ]
  },
  {
   "cell_type": "code",
   "execution_count": null,
   "metadata": {},
   "outputs": [],
   "source": [
    "model.D = RangeSet(1.5, 10, 3.5)"
   ]
  },
  {
   "cell_type": "code",
   "execution_count": null,
   "metadata": {},
   "outputs": [],
   "source": [
    "model.I = model.A | model.D # union\n",
    "model.J = model.A & model.D # intersection\n",
    "model.K = model.A - model.D # difference\n",
    "model.L = model.A ^ model.D # exclusive-or"
   ]
  },
  {
   "cell_type": "markdown",
   "metadata": {},
   "source": [
    "# within options:\n",
    "\n",
    "Any = all possible values\n",
    "\n",
    "Reals = floating point values\n",
    "\n",
    "PositiveReals = strictly positive floating point values\n",
    "\n",
    "NonPositiveReals = non-positive floating point values\n",
    "\n",
    "NegativeReals = strictly negative floating point values\n",
    "\n",
    "NonNegativeReals = non-negative floating point values\n",
    "\n",
    "PercentFraction = floating point values in the interval [0,1]\n",
    "\n",
    "UnitInterval = alias for PercentFraction\n",
    "\n",
    "Integers = integer values\n",
    "\n",
    "PositiveIntegers = positive integer values\n",
    "\n",
    "NonPositiveIntegers = non-positive integer values\n",
    "\n",
    "NegativeIntegers = negative integer values\n",
    "\n",
    "NonNegativeIntegers = non-negative integer values\n",
    "\n",
    "Boolean = Boolean values, which can be represented as False/True, 0/1, ’False’/’True’ and ’F’/’T’\n",
    "\n",
    "Binary = same as Boolean"
   ]
  },
  {
   "cell_type": "markdown",
   "metadata": {},
   "source": [
    "# Parameters"
   ]
  },
  {
   "cell_type": "code",
   "execution_count": null,
   "metadata": {},
   "outputs": [],
   "source": [
    "model.A = Set()\n",
    "model.B = Set()\n",
    "model.P = Param(model.A, model.B)"
   ]
  },
  {
   "cell_type": "code",
   "execution_count": null,
   "metadata": {},
   "outputs": [],
   "source": [
    "model.const_A = Param(initialize = -1, mutable=True)\n",
    "model.const_B = Param(initialize = -1, mutable=True)"
   ]
  },
  {
   "cell_type": "code",
   "execution_count": null,
   "metadata": {},
   "outputs": [],
   "source": [
    "model.const_A.set_value(2)\n",
    "model.const_B.set_value(3)"
   ]
  },
  {
   "cell_type": "markdown",
   "metadata": {},
   "source": [
    "# Variables"
   ]
  },
  {
   "cell_type": "code",
   "execution_count": null,
   "metadata": {},
   "outputs": [],
   "source": [
    "model.LumberJack = Var(within=NonNegativeReals, bounds=(0,6), initialize=1.5)"
   ]
  },
  {
   "cell_type": "markdown",
   "metadata": {},
   "source": [
    "# Objective"
   ]
  },
  {
   "cell_type": "code",
   "execution_count": null,
   "metadata": {},
   "outputs": [],
   "source": [
    "def ObjRule(model):\n",
    "    return 2*model.x[1] + 3*model.x[2]\n",
    "model.Obj = Objective(rule=ObjRule, sense=maximize)"
   ]
  },
  {
   "cell_type": "markdown",
   "metadata": {},
   "source": [
    "# Constraints"
   ]
  },
  {
   "cell_type": "code",
   "execution_count": null,
   "metadata": {},
   "outputs": [],
   "source": [
    "model.x = Var()\n",
    "\n",
    "def aRule(model):\n",
    "    return model.x >= 2\n",
    "model.Boundx = Constraint(rule=aRule)\n",
    "\n",
    "def bRule(model):\n",
    "    return (2, model.x, None)\n",
    "model.boundx = Constraint(rule=bRule)"
   ]
  },
  {
   "cell_type": "markdown",
   "metadata": {},
   "source": [
    "# Solving Pyomo Models"
   ]
  },
  {
   "cell_type": "code",
   "execution_count": null,
   "metadata": {
    "scrolled": true
   },
   "outputs": [],
   "source": [
    "!pyomo help --solvers"
   ]
  },
  {
   "cell_type": "code",
   "execution_count": null,
   "metadata": {},
   "outputs": [],
   "source": [
    "def solve_model(modelo, parametros):\n",
    "    opt = SolverFactory('glpk')\n",
    "    sol = opt.solve(model) \n",
    "    return modelo"
   ]
  },
  {
   "cell_type": "markdown",
   "metadata": {},
   "source": [
    "# 1. The Transport Problem"
   ]
  },
  {
   "cell_type": "markdown",
   "metadata": {},
   "source": [
    "## Create a model"
   ]
  },
  {
   "cell_type": "code",
   "execution_count": null,
   "metadata": {},
   "outputs": [],
   "source": [
    "# Creation of a Concrete Model\n",
    "model = ConcreteModel()"
   ]
  },
  {
   "cell_type": "markdown",
   "metadata": {},
   "source": [
    "## Set definitions"
   ]
  },
  {
   "cell_type": "code",
   "execution_count": null,
   "metadata": {},
   "outputs": [],
   "source": [
    "model.i = Set(initialize=['seattle','san-diego'], doc='Canning plans')\n",
    "model.j = Set(initialize=['new-york','chicago', 'topeka'], doc='Markets')"
   ]
  },
  {
   "cell_type": "markdown",
   "metadata": {},
   "source": [
    "## Parameters"
   ]
  },
  {
   "cell_type": "code",
   "execution_count": null,
   "metadata": {},
   "outputs": [],
   "source": [
    "model.a = Param(model.i, initialize={'seattle':350,'san-diego':600}, doc='Capacity of plant i in cases')\n",
    "model.b = Param(model.j, initialize={'new-york':325,'chicago':300,'topeka':275}, doc='Demand at market j in cases')"
   ]
  },
  {
   "cell_type": "code",
   "execution_count": null,
   "metadata": {},
   "outputs": [],
   "source": [
    "dtab = {\n",
    "    ('seattle',  'new-york') : 2.5,\n",
    "    ('seattle',  'chicago')  : 1.7,\n",
    "    ('seattle',  'topeka')   : 1.8,\n",
    "    ('san-diego','new-york') : 2.5,\n",
    "    ('san-diego','chicago')  : 1.8,\n",
    "    ('san-diego','topeka')   : 1.4,\n",
    "    }\n",
    "model.d = Param(model.i, model.j, initialize=dtab, doc='Distance in thousands of miles')\n",
    "\n",
    "#  Scalar f  freight in dollars per case per thousand miles  /90/ ;\n",
    "model.f = Param(initialize=90, doc='Freight in dollars per case per thousand miles')"
   ]
  },
  {
   "cell_type": "code",
   "execution_count": null,
   "metadata": {},
   "outputs": [],
   "source": [
    "def c_init(model, i, j):\n",
    "    return model.f * model.d[i,j] / 1000\n",
    "\n",
    "model.c = Param(model.i, model.j, initialize=c_init, doc='Transport cost in thousands of dollar per case')"
   ]
  },
  {
   "cell_type": "markdown",
   "metadata": {},
   "source": [
    "## Variables"
   ]
  },
  {
   "cell_type": "code",
   "execution_count": null,
   "metadata": {},
   "outputs": [],
   "source": [
    "model.x = Var(model.i, model.j, bounds=(0.0,None), doc='Shipment quantities in case')"
   ]
  },
  {
   "cell_type": "markdown",
   "metadata": {},
   "source": [
    "## Constraints"
   ]
  },
  {
   "cell_type": "code",
   "execution_count": null,
   "metadata": {},
   "outputs": [],
   "source": [
    "# supply(i) .. sum (j, x(i,j)) =l= a(i)\n",
    "def supply_rule(model, i):\n",
    "    return sum(model.x[i,j] for j in model.j) <= model.a[i]\n",
    "\n",
    "model.supply = Constraint(model.i, rule=supply_rule, doc='Observe supply limit at plant i')\n",
    "\n",
    "# demand(j) .. sum(i, x(i,j)) =g= b(j);\n",
    "def demand_rule(model, j):\n",
    "    return sum(model.x[i,j] for i in model.i) >= model.b[j]  \n",
    "\n",
    "model.demand = Constraint(model.j, rule=demand_rule, doc='Satisfy demand at market j')"
   ]
  },
  {
   "cell_type": "markdown",
   "metadata": {},
   "source": [
    "## Objective function"
   ]
  },
  {
   "cell_type": "code",
   "execution_count": null,
   "metadata": {},
   "outputs": [],
   "source": [
    "def objective_rule(model):\n",
    "    return sum(model.c[i,j]*model.x[i,j] for i in model.i for j in model.j)\n",
    "\n",
    "model.objective = Objective(rule=objective_rule, sense=minimize, doc='Define objective function')"
   ]
  },
  {
   "cell_type": "markdown",
   "metadata": {},
   "source": [
    "## Results"
   ]
  },
  {
   "cell_type": "code",
   "execution_count": null,
   "metadata": {},
   "outputs": [],
   "source": [
    "def pyomo_postprocess(options=None, instance=None, results=None):\n",
    "    model.x.display()"
   ]
  },
  {
   "cell_type": "code",
   "execution_count": null,
   "metadata": {},
   "outputs": [],
   "source": [
    "if __name__ == '__main__':\n",
    "    # This emulates what the pyomo command-line tools does\n",
    "    # pyomo solve –solver=glpk transport.py\n",
    "    from pyomo.opt import SolverFactory\n",
    "    import pyomo.environ\n",
    "    opt = SolverFactory(\"glpk\")\n",
    "    results = opt.solve(model)\n",
    "    #sends results to stdout\n",
    "    results.write()\n",
    "    print(\"\\nDisplaying Solution\\n\" + '-'*60)\n",
    "    pyomo_postprocess(None, model, results)"
   ]
  },
  {
   "cell_type": "markdown",
   "metadata": {},
   "source": [
    "# 2. The p-Median Problem"
   ]
  },
  {
   "cell_type": "code",
   "execution_count": null,
   "metadata": {},
   "outputs": [],
   "source": [
    "import random\n",
    "\n",
    "random.seed(1000)"
   ]
  },
  {
   "cell_type": "code",
   "execution_count": null,
   "metadata": {},
   "outputs": [],
   "source": [
    "model = AbstractModel()"
   ]
  },
  {
   "cell_type": "code",
   "execution_count": null,
   "metadata": {},
   "outputs": [],
   "source": [
    "# Number of candidate locations\n",
    "model.m = Param(within=PositiveIntegers)\n",
    "\n",
    "# Number of customers\n",
    "model.n = Param(within=PositiveIntegers)\n",
    "\n",
    "# Set of candidate locations\n",
    "model.M = RangeSet(1, model.m)\n",
    "\n",
    "# Set of customer nodes\n",
    "model.N = RangeSet(1, model.n)\n",
    "\n",
    "# Number of facilities\n",
    "model.p = Param(within=RangeSet(1,model.n))\n",
    "\n",
    "# d[j] - demand of customer j\n",
    "model.d = Param(model.N, default=1.0)\n",
    "\n",
    "# c[i,j] - unit cost of satisfying customer j from facility i\n",
    "model.c = Param(model.M, model.N, initialize=lambda i, j, model : random.uniform(1.0,2.0), within=Reals)"
   ]
  },
  {
   "cell_type": "code",
   "execution_count": null,
   "metadata": {},
   "outputs": [],
   "source": [
    "# x[i,j] - fraction of the demand of customer j that is supplied by facility i\n",
    "model.x = Var(model.M, model.N, bounds=(0.0, 1.0))\n",
    "\n",
    "# y[i] - a binary value that is 1 is a facility is located at location i\n",
    "model.y = Var(model.M, within=Binary)"
   ]
  },
  {
   "cell_type": "code",
   "execution_count": null,
   "metadata": {},
   "outputs": [],
   "source": [
    "# Minimize the demand-weighted total cost\n",
    "def cost_(model):\n",
    "    return sum(model.d[j]*model.c[i,j]*model.x[i,j] for i in model.M for j in model.N)\n",
    "model.cost = Objective(rule=cost_)"
   ]
  },
  {
   "cell_type": "code",
   "execution_count": null,
   "metadata": {},
   "outputs": [],
   "source": [
    "# All of the demand for customer j must be satisfied\n",
    "def demand_(model, j):\n",
    "    return sum(model.x[i,j] for i in model.M) == 1.0\n",
    "model.demand = Constraint(model.N, rule=demand_)\n",
    "\n",
    "# Exactly p facilities are located\n",
    "def facilities_(model):\n",
    "    return sum(model.y[i] for i in model.M) == model.p\n",
    "model.facilities = Constraint(rule=facilities_)\n",
    "\n",
    "# Demand nodes can only be assigned to open facilities \n",
    "def openfac_(model, i, j):\n",
    "    return model.x[i,j] <= model.y[i]\n",
    "model.openfac = Constraint(model.M, model.N, rule=openfac_)"
   ]
  },
  {
   "cell_type": "code",
   "execution_count": null,
   "metadata": {},
   "outputs": [],
   "source": [
    "instance = model.create_instance('p-median.dat')\n",
    "opt = SolverFactory('glpk')\n",
    "opt.solve(instance) "
   ]
  },
  {
   "cell_type": "markdown",
   "metadata": {},
   "source": [
    "# 3. Knapsack Problem"
   ]
  },
  {
   "cell_type": "markdown",
   "metadata": {},
   "source": [
    "## Formulação matemática\n",
    "\n",
    "$$ maximizar \\sum_{i \\in I}{x_i . v_i} $$\n",
    "\n",
    "$$ \\sum_{i \\in I}{x_i . c_i} \\leq C $$\n"
   ]
  },
  {
   "cell_type": "code",
   "execution_count": null,
   "metadata": {},
   "outputs": [],
   "source": [
    "knapsack = ConcreteModel()"
   ]
  },
  {
   "cell_type": "code",
   "execution_count": null,
   "metadata": {},
   "outputs": [],
   "source": [
    "knapsack.Items = Set(initialize=[i for i in range(10)], doc='itens disponíveis')"
   ]
  },
  {
   "cell_type": "code",
   "execution_count": null,
   "metadata": {},
   "outputs": [],
   "source": [
    "def RandomRule(model, i):\n",
    "    return random.random()\n",
    "\n",
    "knapsack.Valores = Param(knapsack.Items, initialize=RandomRule, within=PositiveReals, mutable=False, doc='Valores dos itens')\n",
    "knapsack.Custos = Param(knapsack.Items, initialize=RandomRule, within=PositiveReals, mutable=False, doc='Custo dos itens')\n",
    "knapsack.Capacidade = Param(initialize=-1, mutable=True, doc='Capacidade total')"
   ]
  },
  {
   "cell_type": "code",
   "execution_count": null,
   "metadata": {},
   "outputs": [],
   "source": [
    "knapsack.Valores.display()"
   ]
  },
  {
   "cell_type": "code",
   "execution_count": null,
   "metadata": {},
   "outputs": [],
   "source": [
    "knapsack.x = Var(knapsack.Items, within=Binary, doc='variável de decisão binária indicando a escolha ou não de cada item')"
   ]
  },
  {
   "cell_type": "code",
   "execution_count": null,
   "metadata": {},
   "outputs": [],
   "source": [
    "def ObjRule(model):\n",
    "    return sum([model.x[i]*model.Valores[i] for i in model.Items])\n",
    "\n",
    "knapsack.objetivo = Objective(rule=ObjRule, sense=maximize, doc='função objetivo: maximizar o valor dos itens selecionados')"
   ]
  },
  {
   "cell_type": "code",
   "execution_count": null,
   "metadata": {},
   "outputs": [],
   "source": [
    "def RestCap(model):\n",
    "    return sum([model.x[i]*model.Custos[i] for i in model.Items]) <= model.Capacidade\n",
    "\n",
    "knapsack.total_cap = Constraint(rule=RestCap, doc='restrição para capacidade total')"
   ]
  },
  {
   "cell_type": "code",
   "execution_count": null,
   "metadata": {},
   "outputs": [],
   "source": [
    "def solve_model(modelo, capacidade):\n",
    "    modelo.Capacidade.set_value(capacidade)\n",
    "    \n",
    "    opt = SolverFactory('glpk')\n",
    "    \n",
    "    results = opt.solve(modelo)\n",
    "    \n",
    "    results.write()\n",
    "    modelo.x.display()\n",
    "    \n",
    "    return modelo"
   ]
  },
  {
   "cell_type": "code",
   "execution_count": null,
   "metadata": {},
   "outputs": [],
   "source": [
    "solve_model(knapsack, 2)"
   ]
  },
  {
   "cell_type": "code",
   "execution_count": null,
   "metadata": {},
   "outputs": [],
   "source": []
  }
 ],
 "metadata": {
  "kernelspec": {
   "display_name": "Python 3",
   "language": "python",
   "name": "python3"
  },
  "language_info": {
   "codemirror_mode": {
    "name": "ipython",
    "version": 3
   },
   "file_extension": ".py",
   "mimetype": "text/x-python",
   "name": "python",
   "nbconvert_exporter": "python",
   "pygments_lexer": "ipython3",
   "version": "3.8.3"
  }
 },
 "nbformat": 4,
 "nbformat_minor": 4
}
